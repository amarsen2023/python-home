{
 "cells": [
  {
   "cell_type": "code",
   "execution_count": 6,
   "id": "5fd7534b-abd6-44bf-b81a-cf448573e3e4",
   "metadata": {},
   "outputs": [
    {
     "name": "stdout",
     "output_type": "stream",
     "text": [
      "Jedi Team: ['Alex', 'Emily', 'Harshita', 'Ivan', 'Mingyang', 'Parastoo', 'Saleha', 'Sophie', 'Yujie', 'Salman']\n",
      "Jedi Team: ['Andy', 'Felipe', 'Hazel', 'Maximus', 'Onyepunuka', 'Ramzi', 'Shweta', 'Tibor', 'John']\n",
      "Jedi Team Leader: Onyepunuka\n"
     ]
    }
   ],
   "source": [
    "# data\n",
    "jedi_class = ['Alex', 'Amar', 'Andy', 'Emily', 'Ethan', 'Felipe', 'Harshita', 'Haihua', 'Hazel', 'Ivan', \n",
    "              'Kala', 'Maximus', 'Mingyang', 'Obi', 'Onyepunuka', 'Parastoo', 'Ramees', 'Ramzi', 'Saleha', \n",
    "              'Scott', 'Shweta', 'Sophie', 'Nariman', 'Tibor', 'Yujie', 'Vishnu', 'John', 'Salman', 'Kyla', 'Huan']\n",
    "\n",
    "# forming special jedi team\n",
    "# 1. Slicing [start:end:step]\n",
    "\n",
    "jedi_team = jedi_class[::3]\n",
    "print(f\"Jedi Team: {jedi_team}\")\n",
    "\n",
    "jedi_team = jedi_class[2:-3:3]\n",
    "print(f\"Jedi Team: {jedi_team}\")\n",
    "\n",
    "jedi_leader = jedi_team[-5]\n",
    "print(f\"Jedi Team Leader: {jedi_leader}\")\n",
    "\n"
   ]
  },
  {
   "cell_type": "code",
   "execution_count": 7,
   "id": "cfebfad1-581c-46bd-b7c3-76a773e239b5",
   "metadata": {},
   "outputs": [
    {
     "name": "stdout",
     "output_type": "stream",
     "text": [
      "Updated Jedi Team: ['Andy', 'Felipe', 'Hazel', 'Maximus', 'Onyepunuka', 'Ramzi', 'Shweta', 'Tibor', 'John', 'Luke']\n",
      "Jedi Team Size: 10\n",
      "Luke's Position in the Team: 9\n",
      "Updated Jedi Team: ['Andy', 'Felipe', 'Hazel', 'Maximus', 'Onyepunuka', 'Ramzi', 'Shweta', 'Tibor', 'John']\n",
      "Pilot: John\n",
      "Final Jedi Team: ['Andy', 'Felipe', 'Hazel', 'Maximus', 'Onyepunuka', 'Ramzi', 'Shweta', 'Tibor']\n"
     ]
    }
   ],
   "source": [
    "jedi_team.append('Luke')\n",
    "print(f\"Updated Jedi Team: {jedi_team}\")\n",
    "\n",
    "# 2. len()\n",
    "# How many members\n",
    "team_size = len(jedi_team)\n",
    "print(f\"Jedi Team Size: {team_size}\")\n",
    "\n",
    "# 3. index()\n",
    "# What's the position of 'Luke'\n",
    "luke_position = jedi_team.index('Luke')\n",
    "print(f\"Luke's Position in the Team: {luke_position}\")\n",
    "\n",
    "# 4. remove()\n",
    "# conflict of interest \n",
    "jedi_team.remove('Luke')\n",
    "print(f\"Updated Jedi Team: {jedi_team}\")\n",
    "\n",
    "# 5. pop()\n",
    "# too many jedi, popping the last member from the team\n",
    "pilot = jedi_team.pop()\n",
    "print(f\"Pilot: {pilot}\")\n",
    "print(f\"Final Jedi Team: {jedi_team}\")"
   ]
  },
  {
   "cell_type": "code",
   "execution_count": 8,
   "id": "66c58a68-ccf3-4d18-bce0-02833ad69371",
   "metadata": {},
   "outputs": [],
   "source": [
    "physical_objects = [\"door\", \"iron door\", \"rock\", \"pillars\", \"metal wall\", \"cables\",\"weapon\"]\n",
    "guards = [\"orcs\", \"pokemons\", \"stormtroops\",\"Gandalf\",\"Darth Vader\", \"Blade Runner\", \"Harry Potter\"]\n",
    "clients = ['Gandalf','Han solo','Baby Yoda', 'Blade Runner', 'Harry Potter']\n",
    "numbers = [12, 34, 56, 78]\n",
    "stocks = [\"Apple\", \"Microsoft\", \"Amazon\", \"Tesla\"]\n",
    "\n",
    "def cut_physical_objects(target):\n",
    "    middle_index = len(target) // 2 #5//2 = 2 not 2.5\n",
    "    cut_target = target[:middle_index] + \"|\" + target[middle_index:]\n",
    "    print(f\"Cut {target} into {cut_target}\")\n",
    "\n",
    "def cut_jedi_class(target):\n",
    "    print(f\"cut {target}, gental light, no cut\")\n",
    "\n",
    "def cut_guards(target):\n",
    "    middle_index = len(target) // 2\n",
    "    cut_target = target[:middle_index] + \"|\" + target[middle_index:]\n",
    "    print(f\"Cut {target} into {cut_target}\")\n",
    "    \n",
    "def cut_clients(target):\n",
    "    if target == \"Blade Runner\":\n",
    "        print(f\"{target}, you are not born yet, but we have you covered. You are on waiting list\")\n",
    "    elif target == \"Harry Potter\":\n",
    "        print(f\"{target}, you should invest 95% in stocks, 5% in bitcoin, which will be the currency of Galaxy\")\n",
    "    elif target == \"Gandalf\":\n",
    "        print(f\"{target}, We will connect you to a middle earth financal advisor\")\n",
    "    else: \n",
    "        print(f\"{target}, let's make an appointment\")\n",
    "\n",
    "def cut_numbers(target):\n",
    "    cut_target = target / 2\n",
    "    print(f\"The number {target} is cut into two: {cut_target} and {cut_target}\")\n",
    "\n",
    "def cut_stocks(target):\n",
    "    print(f\"The stock {target} is cut in half!\")"
   ]
  },
  {
   "cell_type": "code",
   "execution_count": null,
   "id": "3fc3e057-5d07-4add-94c4-86b82fbbcb68",
   "metadata": {},
   "outputs": [],
   "source": []
  }
 ],
 "metadata": {
  "kernelspec": {
   "display_name": "Python 3 (ipykernel)",
   "language": "python",
   "name": "python3"
  },
  "language_info": {
   "codemirror_mode": {
    "name": "ipython",
    "version": 3
   },
   "file_extension": ".py",
   "mimetype": "text/x-python",
   "name": "python",
   "nbconvert_exporter": "python",
   "pygments_lexer": "ipython3",
   "version": "3.10.9"
  }
 },
 "nbformat": 4,
 "nbformat_minor": 5
}
